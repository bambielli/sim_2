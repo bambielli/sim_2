{
 "cells": [
  {
   "cell_type": "markdown",
   "metadata": {},
   "source": [
    "# Support Center Queue ... Stochastic Sim. Phase 2\n",
    "\n",
    "Jill is happy that her code seems to be running well, and simulating a fixed arrival and service stream.  But she is ready to ramp-up her analysis.  First, she wants to simulate many days, and experiment with adding staff, etc.  The first step she thinks is to generate arrivals to the support center randomly, and generate random service times --- A monte carlo simulation.  She knows from her intro to Ops class (which she loved), that one way to help validate her code is to compare it to a theoretical M/M/1 queueing system.  Once she sees her code match the theoretical values, she would feel better about making changes to the distribution, etc.  That is, she will have confidence that her code is working.   So here is her current plan for Phase 2:\n",
    "\n",
    "- Jobs arrive to the support center with interarrival times according to an exponential distribution\n",
    "- Service times are generated according to an exponential distribution\n",
    "- Still just one server (for now!), and thus she will be simulating an M/M/1 queueing system"
   ]
  },
  {
   "cell_type": "markdown",
   "metadata": {},
   "source": [
    "## Let's load up some common code modules before we begin"
   ]
  },
  {
   "cell_type": "code",
   "execution_count": 84,
   "metadata": {},
   "outputs": [],
   "source": [
    "import math\n",
    "import numpy as np\n",
    "import matplotlib.pyplot as plt\n",
    "from pprint import pprint"
   ]
  },
  {
   "cell_type": "markdown",
   "metadata": {},
   "source": [
    "## Let's load our data into Python data structures"
   ]
  },
  {
   "cell_type": "code",
   "execution_count": 85,
   "metadata": {},
   "outputs": [
    {
     "name": "stdout",
     "output_type": "stream",
     "text": [
      "[   {'arrival_time': 0, 'service_completion_time': None},\n",
      "    {'arrival_time': 42, 'service_completion_time': None},\n",
      "    {'arrival_time': 57, 'service_completion_time': None},\n",
      "    {'arrival_time': 159, 'service_completion_time': None},\n",
      "    {'arrival_time': 258, 'service_completion_time': None},\n",
      "    {'arrival_time': 269, 'service_completion_time': None},\n",
      "    {'arrival_time': 371, 'service_completion_time': None},\n",
      "    {'arrival_time': 406, 'service_completion_time': None},\n",
      "    {'arrival_time': 849, 'service_completion_time': None},\n",
      "    {'arrival_time': 933, 'service_completion_time': None},\n",
      "    {'arrival_time': 1608, 'service_completion_time': None},\n",
      "    {'arrival_time': 1665, 'service_completion_time': None},\n",
      "    {'arrival_time': 1735, 'service_completion_time': None},\n",
      "    {'arrival_time': 1956, 'service_completion_time': None},\n",
      "    {'arrival_time': 2304, 'service_completion_time': None},\n",
      "    {'arrival_time': 2321, 'service_completion_time': None},\n",
      "    {'arrival_time': 2357, 'service_completion_time': None},\n",
      "    {'arrival_time': 2715, 'service_completion_time': None},\n",
      "    {'arrival_time': 2924, 'service_completion_time': None},\n",
      "    {'arrival_time': 3374, 'service_completion_time': None}]\n"
     ]
    }
   ],
   "source": [
    "# Create NUMBER_OF_ARRIVALS arrivals with interarrival times \n",
    "#  Exponentially distributed with mean MEAN_TIME_BETWEEN_ARRIVALS\n",
    "#  And service times exponentially distributed with MEAN_SERVICE_TIME\n",
    "NUMBER_OF_ARRIVALS = 100000\n",
    "MEAN_TIME_BETWEEN_ARRIVALS = 200\n",
    "MEAN_SERVICE_TIME = 190\n",
    "\n",
    "arrival_jobs = []\n",
    "#np.random.seed(55)\n",
    "\n",
    "for i in range(NUMBER_OF_ARRIVALS):\n",
    "    # create a new job object\n",
    "    new_job = {'arrival_time': None, 'service_completion_time': None}\n",
    "    \n",
    "    # Put the first arrival at time 0\n",
    "    if (i==0):\n",
    "        new_job['arrival_time'] = 0\n",
    "    else:\n",
    "        # note arrival_jobs[-1] returns the last job in the arrival_jobs list \n",
    "        last_arrival_time = arrival_jobs[-1]['arrival_time']\n",
    "        next_arrival_time = last_arrival_time + math.ceil(np.random.exponential(MEAN_TIME_BETWEEN_ARRIVALS))\n",
    "        new_job['arrival_time'] = next_arrival_time\n",
    "        \n",
    "    arrival_jobs.append(new_job)\n",
    "\n",
    "# Let's inspect the first few arrival times\n",
    "pprint(arrival_jobs[:20],indent=4)\n"
   ]
  },
  {
   "cell_type": "markdown",
   "metadata": {},
   "source": [
    "## Let's create a few more data structures that will be useful for our simulation"
   ]
  },
  {
   "cell_type": "code",
   "execution_count": 86,
   "metadata": {},
   "outputs": [],
   "source": [
    "# job_queue is a list to hold jobs that have arrived and are waiting for service\n",
    "jobs_in_queue = []\n",
    "# A variable that holds None or job in service\n",
    "job_in_service = None\n",
    "# job_completion_times is a list holding when jobs complete service\n",
    "completed_jobs = []\n",
    "# Store the total system time for each job into a list\n",
    "system_time=[]"
   ]
  },
  {
   "cell_type": "markdown",
   "metadata": {},
   "source": [
    "## We will now loop through time, with a variable called  `time_period`"
   ]
  },
  {
   "cell_type": "code",
   "execution_count": 87,
   "metadata": {},
   "outputs": [],
   "source": [
    "#  We will increment time_period as simulation proceeds\n",
    "time_period = 0\n",
    "TOTAL_NUMBER_OF_JOBS = len(arrival_jobs)\n",
    "#  We will run our simulation until all jobs have departed service\n",
    "while len(completed_jobs) < TOTAL_NUMBER_OF_JOBS:\n",
    "    #print('Time Period:',time_period)\n",
    "    #\n",
    "    # PROCESS POSSIBLE ARRIVAL TO QUEUE\n",
    "    # Note: First make sure arriva_jobs list is not empty\n",
    "    #       Then, see if next arrival is now, that is, the current time_period\n",
    "    if (len(arrival_jobs) > 0 and arrival_jobs[0]['arrival_time'] == time_period):\n",
    "        #print('** Process Arrival at time',time_period)\n",
    "        \n",
    "        # remove first job from arrival_jobs\n",
    "        job_moving_to_queue = arrival_jobs.pop(0)\n",
    "        # append job to end of jobs_in_queue\n",
    "        jobs_in_queue.append(job_moving_to_queue)\n",
    "    #\n",
    "    # PROCESS POSSIBLE SERVICE COMPLETION\n",
    "    if (job_in_service != None and job_in_service[\"service_completion_time\"]==time_period):\n",
    "        #print('** Process Departure at time',time_period)\n",
    "        # add job to departure_times list\n",
    "        completed_jobs.append(job_in_service)\n",
    "        # save the total system time of the job\n",
    "        system_time.append(job_in_service['service_completion_time']-job_in_service['arrival_time'])\n",
    "        # Free up our server\n",
    "        job_in_service = None\n",
    "    #\n",
    "    # PROCESS POSSIBLE START OF SERVICE, DEPARTURE FROM QUEUE\n",
    "    if (job_in_service==None and len(jobs_in_queue) > 0):\n",
    "        #print('** Process Start of Service at time:',time_period)\n",
    "        # remove first job from queue\n",
    "        job_in_service = jobs_in_queue.pop(0)\n",
    "        # Place in service by setting service_completion_time\n",
    "        job_in_service[\"service_time\"] = math.ceil(np.random.exponential(MEAN_SERVICE_TIME))\n",
    "        # Store when job will complete service in the job object\n",
    "        job_in_service[\"service_completion_time\"] = time_period +  job_in_service[\"service_time\"]\n",
    "    #\n",
    "    # Increment the time_period before going back to top of loop\n",
    "    time_period += 1"
   ]
  },
  {
   "cell_type": "code",
   "execution_count": 88,
   "metadata": {},
   "outputs": [
    {
     "name": "stdout",
     "output_type": "stream",
     "text": [
      "[   {'arrival_time': 0, 'service_completion_time': 207, 'service_time': 207},\n",
      "    {'arrival_time': 42, 'service_completion_time': 457, 'service_time': 250},\n",
      "    {'arrival_time': 57, 'service_completion_time': 500, 'service_time': 43},\n",
      "    {'arrival_time': 159, 'service_completion_time': 544, 'service_time': 44},\n",
      "    {'arrival_time': 258, 'service_completion_time': 825, 'service_time': 281},\n",
      "    {'arrival_time': 269, 'service_completion_time': 1001, 'service_time': 176},\n",
      "    {'arrival_time': 371, 'service_completion_time': 1165, 'service_time': 164},\n",
      "    {'arrival_time': 406, 'service_completion_time': 1318, 'service_time': 153},\n",
      "    {'arrival_time': 849, 'service_completion_time': 1523, 'service_time': 205},\n",
      "    {'arrival_time': 933, 'service_completion_time': 1536, 'service_time': 13},\n",
      "    {   'arrival_time': 1608,\n",
      "        'service_completion_time': 1838,\n",
      "        'service_time': 230},\n",
      "    {   'arrival_time': 1665,\n",
      "        'service_completion_time': 2463,\n",
      "        'service_time': 625},\n",
      "    {'arrival_time': 1735, 'service_completion_time': 2504, 'service_time': 41},\n",
      "    {'arrival_time': 1956, 'service_completion_time': 2521, 'service_time': 17},\n",
      "    {'arrival_time': 2304, 'service_completion_time': 2575, 'service_time': 54},\n",
      "    {'arrival_time': 2321, 'service_completion_time': 2611, 'service_time': 36},\n",
      "    {'arrival_time': 2357, 'service_completion_time': 2694, 'service_time': 83},\n",
      "    {'arrival_time': 2715, 'service_completion_time': 2718, 'service_time': 3},\n",
      "    {'arrival_time': 2924, 'service_completion_time': 2937, 'service_time': 13},\n",
      "    {   'arrival_time': 3374,\n",
      "        'service_completion_time': 3715,\n",
      "        'service_time': 341}]\n"
     ]
    }
   ],
   "source": [
    "pprint(completed_jobs[:20],indent=4)"
   ]
  },
  {
   "cell_type": "markdown",
   "metadata": {},
   "source": [
    "### Let's inspect the total system time"
   ]
  },
  {
   "cell_type": "code",
   "execution_count": 89,
   "metadata": {},
   "outputs": [
    {
     "name": "stdout",
     "output_type": "stream",
     "text": [
      "[207,\n",
      " 415,\n",
      " 443,\n",
      " 385,\n",
      " 567,\n",
      " 732,\n",
      " 794,\n",
      " 912,\n",
      " 674,\n",
      " 603,\n",
      " 230,\n",
      " 798,\n",
      " 769,\n",
      " 565,\n",
      " 271,\n",
      " 290,\n",
      " 337,\n",
      " 3,\n",
      " 13,\n",
      " 341]\n"
     ]
    }
   ],
   "source": [
    "pprint(system_time[:20])"
   ]
  },
  {
   "cell_type": "code",
   "execution_count": 90,
   "metadata": {},
   "outputs": [
    {
     "name": "stdout",
     "output_type": "stream",
     "text": [
      "The average system time is: 3613.9158\n"
     ]
    }
   ],
   "source": [
    "print('The average system time is:',np.mean(system_time))"
   ]
  },
  {
   "cell_type": "markdown",
   "metadata": {},
   "source": [
    "### Compare to M/M/1 theoretical average time in system\n",
    "- $CT = \\frac{1}{\\mu - \\lambda}$\n",
    "- Here, $\\mu$ is the average service rate, 1/MEAN_SERVICE_TIME\n",
    "- And $\\lambda$ is the average arrival rate, 1/MEAN_TIME_BETWEEN_ARRIVALS"
   ]
  },
  {
   "cell_type": "code",
   "execution_count": 91,
   "metadata": {},
   "outputs": [
    {
     "name": "stdout",
     "output_type": "stream",
     "text": [
      "The theoretical average system time is: 3800.000000000003\n"
     ]
    }
   ],
   "source": [
    "print('The theoretical average system time is:',1/( (1/MEAN_SERVICE_TIME) - (1/MEAN_TIME_BETWEEN_ARRIVALS) ))"
   ]
  },
  {
   "cell_type": "code",
   "execution_count": 92,
   "metadata": {},
   "outputs": [
    {
     "data": {
      "image/png": "[encoded data removed]",
      "text/plain": [
       "<Figure size 432x288 with 1 Axes>"
      ]
     },
     "metadata": {
      "needs_background": "light"
     },
     "output_type": "display_data"
    }
   ],
   "source": [
    "# Tinker with number of bins, until it looks right\n",
    "plt.hist(system_time,bins=30)\n",
    "# you can customize the exact tick marks on an axis\n",
    "plt.yticks(range(0,3))\n",
    "plt.ylabel('Frequency');\n",
    "plt.xlabel('Time in System');"
   ]
  },
  {
   "cell_type": "markdown",
   "metadata": {},
   "source": [
    "## The NumPy package provides lots of statistical methods, we call it with `np`"
   ]
  },
  {
   "cell_type": "code",
   "execution_count": 93,
   "metadata": {},
   "outputs": [
    {
     "data": {
      "text/plain": [
       "24561"
      ]
     },
     "execution_count": 93,
     "metadata": {},
     "output_type": "execute_result"
    }
   ],
   "source": [
    "np.max(system_time)"
   ]
  },
  {
   "cell_type": "code",
   "execution_count": 94,
   "metadata": {},
   "outputs": [
    {
     "data": {
      "text/plain": [
       "2402.0"
      ]
     },
     "execution_count": 94,
     "metadata": {},
     "output_type": "execute_result"
    }
   ],
   "source": [
    "# 50th percentile, or median\n",
    "np.percentile(system_time,50)"
   ]
  },
  {
   "cell_type": "code",
   "execution_count": 95,
   "metadata": {},
   "outputs": [
    {
     "data": {
      "text/plain": [
       "2402.0"
      ]
     },
     "execution_count": 95,
     "metadata": {},
     "output_type": "execute_result"
    }
   ],
   "source": [
    "np.median(system_time)"
   ]
  },
  {
   "cell_type": "code",
   "execution_count": 96,
   "metadata": {},
   "outputs": [
    {
     "data": {
      "text/plain": [
       "3773.579696915166"
      ]
     },
     "execution_count": 96,
     "metadata": {},
     "output_type": "execute_result"
    }
   ],
   "source": [
    "np.std(system_time)"
   ]
  },
  {
   "cell_type": "markdown",
   "metadata": {},
   "source": [
    "# Homework/In-class work\n",
    "\n",
    "1. Consider the following function that will return an exponential random variable that takes one argument, the mean, \n",
    "\n",
    "```\n",
    "def exponential(mean):\n",
    "    # using math.ceil will round up all floating point numbers\n",
    "    return math.ceil(np.random.exponential(mean))\n",
    "```\n",
    "\n",
    "    - So, to get an exponential random variable with mean 10, we would use: `exponential(10)`\n",
    "\n",
    "    - Incorporate this function into the code and use it to for arrivals and service times\n",
    "\n",
    "1. Of course, we may want to use other distributions in a simulation.  Write functions for other distributions,  `normal`, `triangular`,  and `uniform`, explore the `numpy` documentation:  https://docs.scipy.org/doc/numpy-1.14.0/reference/routines.random.html\n",
    "\n",
    "   - remember, make sure your functions return only positive integers for our purposes.\n",
    "   - try out each of your functions in a cell to make sure they work as expected\n",
    "\n",
    "   \n"
   ]
  }
 ],
 "metadata": {
  "kernelspec": {
   "display_name": "Python 3",
   "language": "python",
   "name": "python3"
  },
  "language_info": {
   "codemirror_mode": {
    "name": "ipython",
    "version": 3
   },
   "file_extension": ".py",
   "mimetype": "text/x-python",
   "name": "python",
   "nbconvert_exporter": "python",
   "pygments_lexer": "ipython3",
   "version": "3.7.0"
  }
 },
 "nbformat": 4,
 "nbformat_minor": 2
}
