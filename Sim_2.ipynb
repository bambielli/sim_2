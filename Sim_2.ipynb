{
 "cells": [
  {
   "cell_type": "markdown",
   "metadata": {},
   "source": [
    "# Support Center Queue ... Stochastic Sim. Phase 2\n",
    "\n",
    "Jill is happy that her code seems to be running well, and simulating a fixed arrival and service stream.  But she is ready to ramp-up her analysis.  First, she wants to simulate many days, and experiment with adding staff, etc.  The first step she thinks is to generate arrivals to the support center randomly, and generate random service times --- A monte carlo simulation.  She knows from her intro to Ops class (which she loved), that one way to help validate her code is to compare it to a theoretical M/M/1 queueing system.  Once she sees her code match the theoretical values, she would feel better about making changes to the distribution, etc.  That is, she will have confidence that her code is working.   So here is her current plan for Phase 2:\n",
    "\n",
    "- Jobs arrive to the support center with interarrival times according to an exponential distribution\n",
    "- Service times are generated according to an exponential distribution\n",
    "- Still just one server (for now!)\n",
    "\n",
    "Thus she will be simulating an M/M/1 queueing system"
   ]
  },
  {
   "cell_type": "markdown",
   "metadata": {},
   "source": [
    "## Let's load up some common code modules before we begin"
   ]
  },
  {
   "cell_type": "code",
   "execution_count": 55,
   "metadata": {},
   "outputs": [],
   "source": [
    "import math\n",
    "import numpy as np\n",
    "import matplotlib.pyplot as plt\n",
    "from pprint import pprint"
   ]
  },
  {
   "cell_type": "markdown",
   "metadata": {},
   "source": [
    "## Now we'll generate some jobs to process\n",
    "\n",
    "We will generate 100,000 jobs with stochastic interarrival rate and processing times per the M/M/1 queue specification."
   ]
  },
  {
   "cell_type": "code",
   "execution_count": 222,
   "metadata": {},
   "outputs": [
    {
     "name": "stdout",
     "output_type": "stream",
     "text": [
      "[   {'arrival_time': 0, 'service_completion_time': None},\n",
      "    {'arrival_time': 20, 'service_completion_time': None},\n",
      "    {'arrival_time': 733, 'service_completion_time': None},\n",
      "    {'arrival_time': 866, 'service_completion_time': None},\n",
      "    {'arrival_time': 922, 'service_completion_time': None},\n",
      "    {'arrival_time': 1074, 'service_completion_time': None},\n",
      "    {'arrival_time': 1142, 'service_completion_time': None},\n",
      "    {'arrival_time': 1540, 'service_completion_time': None},\n",
      "    {'arrival_time': 1549, 'service_completion_time': None},\n",
      "    {'arrival_time': 1572, 'service_completion_time': None},\n",
      "    {'arrival_time': 1864, 'service_completion_time': None},\n",
      "    {'arrival_time': 1875, 'service_completion_time': None},\n",
      "    {'arrival_time': 2174, 'service_completion_time': None},\n",
      "    {'arrival_time': 2176, 'service_completion_time': None},\n",
      "    {'arrival_time': 2369, 'service_completion_time': None},\n",
      "    {'arrival_time': 2711, 'service_completion_time': None},\n",
      "    {'arrival_time': 3169, 'service_completion_time': None},\n",
      "    {'arrival_time': 4018, 'service_completion_time': None},\n",
      "    {'arrival_time': 4156, 'service_completion_time': None},\n",
      "    {'arrival_time': 4243, 'service_completion_time': None}]\n"
     ]
    }
   ],
   "source": [
    "NUMBER_OF_ARRIVALS = 100000\n",
    "MEAN_TIME_BETWEEN_ARRIVALS = 200\n",
    "MEAN_SERVICE_TIME = 190\n",
    "\n",
    "arrival_jobs = []\n",
    "\n",
    "# Optional: If you'd like to have \"determinstic randomness\" in your simulation, uncomment the following line and run this code block\n",
    "np.random.seed(55)\n",
    "\n",
    "for i in range(NUMBER_OF_ARRIVALS):\n",
    "    # create a new job dictionary with empty values\n",
    "    new_job = {'arrival_time': None, 'service_completion_time': None}\n",
    "\n",
    "    # Randomly generate job arrival time per exponential distribution \n",
    "    if (i==0):\n",
    "        new_job['arrival_time'] = 0\n",
    "    else:\n",
    "        # note arrival_jobs[-1] returns the last job in the arrival_jobs list \n",
    "        last_arrival_time = arrival_jobs[-1]['arrival_time']\n",
    "        next_arrival_time = last_arrival_time + math.ceil(np.random.exponential(MEAN_TIME_BETWEEN_ARRIVALS))\n",
    "        new_job['arrival_time'] = next_arrival_time\n",
    "    \n",
    "    # add newly created job to the end of the arrival_jobs list\n",
    "    arrival_jobs.append(new_job)\n",
    "\n",
    "# Let's inspect the first 20 arrival_jobs\n",
    "pprint(arrival_jobs[:20],indent=4)\n"
   ]
  },
  {
   "cell_type": "markdown",
   "metadata": {},
   "source": [
    "## Let's create a few more data structures that will be useful for our simulation"
   ]
  },
  {
   "cell_type": "code",
   "execution_count": 223,
   "metadata": {},
   "outputs": [],
   "source": [
    "# jobs_in_queue is a list to hold jobs that have arrived and are waiting for service\n",
    "jobs_in_queue = []\n",
    "# A representation of a single server\n",
    "server = {'job_in_service': None}\n",
    "# completed_jobs is a list holding when jobs complete service\n",
    "completed_jobs = []\n",
    "# Store the total system time for each job into a list\n",
    "system_time=[]\n",
    "# total number of jobs \n",
    "TOTAL_NUMBER_OF_JOBS = len(arrival_jobs)"
   ]
  },
  {
   "cell_type": "markdown",
   "metadata": {},
   "source": [
    "## And let's define some utility functions\n",
    "\n",
    "These will help make our simulation code more consise and readable."
   ]
  },
  {
   "cell_type": "code",
   "execution_count": 224,
   "metadata": {},
   "outputs": [],
   "source": [
    "def jobs_exist(jobs):\n",
    "    return len(jobs) > 0\n",
    "\n",
    "def all_jobs_are_complete():\n",
    "    return len(completed_jobs) == TOTAL_NUMBER_OF_JOBS\n",
    "\n",
    "def next_job_has_arrived(now):\n",
    "    return arrival_jobs[0]['arrival_time'] == now\n",
    "\n",
    "def is_job_complete(time_period):\n",
    "    return server['job_in_service']['service_completion_time'] == time_period\n",
    "\n",
    "# two functions for interacting with our server\n",
    "def is_server_free():\n",
    "    return server['job_in_service'] == None\n",
    "\n",
    "def assign_job_to_server(job):\n",
    "    server['job_in_service'] = job"
   ]
  },
  {
   "cell_type": "markdown",
   "metadata": {},
   "source": [
    "## We will now loop through time, with a variable called  `time_period`"
   ]
  },
  {
   "cell_type": "code",
   "execution_count": 225,
   "metadata": {},
   "outputs": [],
   "source": [
    "#  We will increment time_period as simulation proceeds\n",
    "time_period = 0\n",
    "\n",
    "#  We will run our simulation until all jobs have been completed\n",
    "while not all_jobs_are_complete():\n",
    "        \n",
    "    if jobs_exist(arrival_jobs) and next_job_has_arrived(time_period):        \n",
    "        # add job that arrived to the queue of jobs to be serviced\n",
    "        job_moving_to_queue = arrival_jobs.pop(0)\n",
    "        jobs_in_queue.append(job_moving_to_queue)\n",
    "\n",
    "    if not is_server_free() and is_job_complete(time_period):\n",
    "        # add finished job_in_service to the end of the completed_jobs list\n",
    "        job_in_service = server['job_in_service']\n",
    "        completed_jobs.append(job_in_service)\n",
    "        # calculate total time spent in the system\n",
    "        system_time.append(job_in_service['service_completion_time'] - job_in_service['arrival_time'])\n",
    "        # Free up our server\n",
    "        assign_job_to_server(None)\n",
    "        \n",
    "    if is_server_free() and jobs_exist(jobs_in_queue):\n",
    "        # remove next pending job from queue\n",
    "        next_job_to_serve = jobs_in_queue.pop(0)\n",
    "        # randomly generate the time it will take for server to complete service of this job, per exponential distribution\n",
    "        service_time = math.ceil(np.random.exponential(MEAN_SERVICE_TIME))\n",
    "        next_job_to_serve[\"service_time\"] = service_time\n",
    "        next_job_to_serve[\"service_completion_time\"] = time_period + service_time\n",
    "        assign_job_to_server(next_job_to_serve)\n",
    "\n",
    "    # Increment the time_period and loop again\n",
    "    time_period += 1"
   ]
  },
  {
   "cell_type": "code",
   "execution_count": 226,
   "metadata": {},
   "outputs": [
    {
     "name": "stdout",
     "output_type": "stream",
     "text": [
      "[{'arrival_time': 0, 'service_completion_time': 432, 'service_time': 432},\n",
      " {'arrival_time': 20, 'service_completion_time': 777, 'service_time': 344},\n",
      " {'arrival_time': 733, 'service_completion_time': 843, 'service_time': 65},\n",
      " {'arrival_time': 866, 'service_completion_time': 1070, 'service_time': 204},\n",
      " {'arrival_time': 922, 'service_completion_time': 1401, 'service_time': 330},\n",
      " {'arrival_time': 1074, 'service_completion_time': 1427, 'service_time': 25},\n",
      " {'arrival_time': 1142, 'service_completion_time': 1527, 'service_time': 99},\n",
      " {'arrival_time': 1540, 'service_completion_time': 1902, 'service_time': 362},\n",
      " {'arrival_time': 1549, 'service_completion_time': 2048, 'service_time': 145},\n",
      " {'arrival_time': 1572, 'service_completion_time': 2282, 'service_time': 233},\n",
      " {'arrival_time': 1864, 'service_completion_time': 2636, 'service_time': 353},\n",
      " {'arrival_time': 1875, 'service_completion_time': 2935, 'service_time': 298},\n",
      " {'arrival_time': 2174, 'service_completion_time': 3273, 'service_time': 337},\n",
      " {'arrival_time': 2176, 'service_completion_time': 3460, 'service_time': 186},\n",
      " {'arrival_time': 2369, 'service_completion_time': 3509, 'service_time': 48},\n",
      " {'arrival_time': 2711, 'service_completion_time': 4026, 'service_time': 516},\n",
      " {'arrival_time': 3169, 'service_completion_time': 4040, 'service_time': 13},\n",
      " {'arrival_time': 4018, 'service_completion_time': 4121, 'service_time': 80},\n",
      " {'arrival_time': 4156, 'service_completion_time': 4315, 'service_time': 159},\n",
      " {'arrival_time': 4243, 'service_completion_time': 4339, 'service_time': 23}]\n"
     ]
    }
   ],
   "source": [
    "pprint(completed_jobs[:20])"
   ]
  },
  {
   "cell_type": "markdown",
   "metadata": {},
   "source": [
    "### Let's inspect the total system time"
   ]
  },
  {
   "cell_type": "code",
   "execution_count": 230,
   "metadata": {},
   "outputs": [
    {
     "name": "stdout",
     "output_type": "stream",
     "text": [
      "[432,\n",
      " 757,\n",
      " 110,\n",
      " 204,\n",
      " 479,\n",
      " 353,\n",
      " 385,\n",
      " 362,\n",
      " 499,\n",
      " 710,\n",
      " 772,\n",
      " 1060,\n",
      " 1099,\n",
      " 1284,\n",
      " 1140,\n",
      " 1315,\n",
      " 871,\n",
      " 103,\n",
      " 159,\n",
      " 96]\n"
     ]
    }
   ],
   "source": [
    "pprint(system_time[:20])"
   ]
  },
  {
   "cell_type": "code",
   "execution_count": 228,
   "metadata": {},
   "outputs": [
    {
     "name": "stdout",
     "output_type": "stream",
     "text": [
      "The average system time is: 4402.44291\n"
     ]
    }
   ],
   "source": [
    "print('The average system time is:',np.mean(system_time))"
   ]
  },
  {
   "cell_type": "markdown",
   "metadata": {},
   "source": [
    "### Compare to M/M/1 theoretical average time in system\n",
    "- $CT = \\frac{1}{\\mu - \\lambda}$\n",
    "- Here, $\\mu$ is the average service rate, 1/MEAN_SERVICE_TIME\n",
    "- And $\\lambda$ is the average arrival rate, 1/MEAN_TIME_BETWEEN_ARRIVALS"
   ]
  },
  {
   "cell_type": "code",
   "execution_count": 166,
   "metadata": {},
   "outputs": [
    {
     "name": "stdout",
     "output_type": "stream",
     "text": [
      "The theoretical average system time is: 3800.000000000003\n"
     ]
    }
   ],
   "source": [
    "print('The theoretical average system time is:',1/( (1/MEAN_SERVICE_TIME) - (1/MEAN_TIME_BETWEEN_ARRIVALS) ))"
   ]
  },
  {
   "cell_type": "code",
   "execution_count": 157,
   "metadata": {},
   "outputs": [
    {
     "data": {
      "image/png": "[encoded data removed]",
      "text/plain": [
       "<Figure size 432x288 with 1 Axes>"
      ]
     },
     "metadata": {
      "needs_background": "light"
     },
     "output_type": "display_data"
    }
   ],
   "source": [
    "# Tinker with number of bins, until it looks right\n",
    "plt.hist(system_time,bins=30)\n",
    "# you can customize the exact tick marks on an axis\n",
    "plt.yticks(range(0,3))\n",
    "plt.ylabel('Frequency');\n",
    "plt.xlabel('Time in System');"
   ]
  },
  {
   "cell_type": "markdown",
   "metadata": {},
   "source": [
    "## The NumPy package provides lots of statistical methods, we call it with `np`"
   ]
  },
  {
   "cell_type": "code",
   "execution_count": 84,
   "metadata": {},
   "outputs": [
    {
     "data": {
      "text/plain": [
       "20288"
      ]
     },
     "execution_count": 84,
     "metadata": {},
     "output_type": "execute_result"
    }
   ],
   "source": [
    "np.max(system_time)"
   ]
  },
  {
   "cell_type": "code",
   "execution_count": 85,
   "metadata": {},
   "outputs": [
    {
     "data": {
      "text/plain": [
       "2369.0"
      ]
     },
     "execution_count": 85,
     "metadata": {},
     "output_type": "execute_result"
    }
   ],
   "source": [
    "# 50th percentile, or median\n",
    "np.percentile(system_time,50)"
   ]
  },
  {
   "cell_type": "code",
   "execution_count": 86,
   "metadata": {},
   "outputs": [
    {
     "data": {
      "text/plain": [
       "2369.0"
      ]
     },
     "execution_count": 86,
     "metadata": {},
     "output_type": "execute_result"
    }
   ],
   "source": [
    "np.median(system_time)"
   ]
  },
  {
   "cell_type": "code",
   "execution_count": 87,
   "metadata": {},
   "outputs": [
    {
     "data": {
      "text/plain": [
       "3275.2440822089316"
      ]
     },
     "execution_count": 87,
     "metadata": {},
     "output_type": "execute_result"
    }
   ],
   "source": [
    "np.std(system_time)"
   ]
  },
  {
   "cell_type": "code",
   "execution_count": 88,
   "metadata": {},
   "outputs": [
    {
     "data": {
      "text/plain": [
       "3433.66412"
      ]
     },
     "execution_count": 88,
     "metadata": {},
     "output_type": "execute_result"
    }
   ],
   "source": [
    "np.mean(system_time)"
   ]
  },
  {
   "cell_type": "markdown",
   "metadata": {},
   "source": [
    "# Homework/In-class work\n",
    "\n",
    "1. Consider the following function that will return an exponential random variable that takes one argument, the mean, \n",
    "\n",
    "```\n",
    "def exponential(mean):\n",
    "    # using math.ceil will round up all floating point numbers\n",
    "    return math.ceil(np.random.exponential(mean))\n",
    "```\n",
    "\n",
    "    - So, to get an exponential random variable with mean 10, we would use: `exponential(10)`\n",
    "\n",
    "    - Incorporate this function into the code and use it to for arrivals and service times\n",
    "\n",
    "1. Of course, we may want to use other distributions in a simulation.  Write functions for other distributions,  `normal`, `triangular`,  and `uniform`, explore the `numpy` documentation:  https://docs.scipy.org/doc/numpy-1.14.0/reference/routines.random.html\n",
    "\n",
    "   - remember, make sure your functions return only positive integers for our purposes.\n",
    "   - try out each of your functions in a cell to make sure they work as expected\n",
    "\n",
    "   \n"
   ]
  }
 ],
 "metadata": {
  "kernelspec": {
   "display_name": "Python 3",
   "language": "python",
   "name": "python3"
  },
  "language_info": {
   "codemirror_mode": {
    "name": "ipython",
    "version": 3
   },
   "file_extension": ".py",
   "mimetype": "text/x-python",
   "name": "python",
   "nbconvert_exporter": "python",
   "pygments_lexer": "ipython3",
   "version": "3.7.3"
  }
 },
 "nbformat": 4,
 "nbformat_minor": 2
}
